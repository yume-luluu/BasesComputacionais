{
  "nbformat": 4,
  "nbformat_minor": 0,
  "metadata": {
    "colab": {
      "provenance": [],
      "authorship_tag": "ABX9TyP3/quPp6yoL+LlESNkFgkC",
      "include_colab_link": true
    },
    "kernelspec": {
      "name": "python3",
      "display_name": "Python 3"
    },
    "language_info": {
      "name": "python"
    }
  },
  "cells": [
    {
      "cell_type": "markdown",
      "metadata": {
        "id": "view-in-github",
        "colab_type": "text"
      },
      "source": [
        "<a href=\"https://colab.research.google.com/github/yume-luluu/BasesComputacionais/blob/master/tarefa_5_luiza_silveira.ipynb\" target=\"_parent\"><img src=\"https://colab.research.google.com/assets/colab-badge.svg\" alt=\"Open In Colab\"/></a>"
      ]
    },
    {
      "cell_type": "markdown",
      "source": [
        "# Tarefa 4\n",
        "\n",
        "Luiza silveira"
      ],
      "metadata": {
        "id": "NewNRLGVcaCE"
      }
    },
    {
      "cell_type": "code",
      "source": [
        "import numpy as np\n",
        "import matplotlib.pyplot as plt"
      ],
      "metadata": {
        "id": "J-teyrLBcfb_"
      },
      "execution_count": 1,
      "outputs": []
    },
    {
      "cell_type": "code",
      "source": [
        "t = np.arange(0, 5, 0.1) # tempo\n",
        "print(t)"
      ],
      "metadata": {
        "colab": {
          "base_uri": "https://localhost:8080/"
        },
        "id": "bPHCpO1tc2Bb",
        "outputId": "ea8bfa31-9c2a-4fc2-85dc-f52c0f2f0950"
      },
      "execution_count": 14,
      "outputs": [
        {
          "output_type": "stream",
          "name": "stdout",
          "text": [
            "[0.  0.1 0.2 0.3 0.4 0.5 0.6 0.7 0.8 0.9 1.  1.1 1.2 1.3 1.4 1.5 1.6 1.7\n",
            " 1.8 1.9 2.  2.1 2.2 2.3 2.4 2.5 2.6 2.7 2.8 2.9 3.  3.1 3.2 3.3 3.4 3.5\n",
            " 3.6 3.7 3.8 3.9 4.  4.1 4.2 4.3 4.4 4.5 4.6 4.7 4.8 4.9]\n"
          ]
        }
      ]
    },
    {
      "cell_type": "code",
      "source": [
        "h = -t**2+4*t # altura em metros da bola\n",
        "print(h)"
      ],
      "metadata": {
        "colab": {
          "base_uri": "https://localhost:8080/"
        },
        "id": "pkV-az3GdLUY",
        "outputId": "4bb46985-b6c1-4a03-95da-b16fcc9af630"
      },
      "execution_count": 15,
      "outputs": [
        {
          "output_type": "stream",
          "name": "stdout",
          "text": [
            "[ 0.    0.39  0.76  1.11  1.44  1.75  2.04  2.31  2.56  2.79  3.    3.19\n",
            "  3.36  3.51  3.64  3.75  3.84  3.91  3.96  3.99  4.    3.99  3.96  3.91\n",
            "  3.84  3.75  3.64  3.51  3.36  3.19  3.    2.79  2.56  2.31  2.04  1.75\n",
            "  1.44  1.11  0.76  0.39  0.   -0.41 -0.84 -1.29 -1.76 -2.25 -2.76 -3.29\n",
            " -3.84 -4.41]\n"
          ]
        }
      ]
    },
    {
      "cell_type": "code",
      "source": [
        "plt.figure(figsize=(8,6))\n",
        "plt.plot(t, h, color='pink', marker='o', linestyle='-.')\n",
        "plt.grid()\n",
        "plt.xlabel('t (tempo)')\n",
        "plt.ylabel('h (altura)')\n",
        "plt.title('Altura da bola em função do tempo')\n",
        "plt.show"
      ],
      "metadata": {
        "colab": {
          "base_uri": "https://localhost:8080/",
          "height": 422
        },
        "id": "gXfhTVvietUo",
        "outputId": "388003b7-e7b5-4e3e-c3cd-a94e1d12db57"
      },
      "execution_count": 22,
      "outputs": [
        {
          "output_type": "execute_result",
          "data": {
            "text/plain": [
              "<function matplotlib.pyplot.show(*args, **kw)>"
            ]
          },
          "metadata": {},
          "execution_count": 22
        },
        {
          "output_type": "display_data",
          "data": {
            "text/plain": [
              "<Figure size 576x432 with 1 Axes>"
            ],
            "image/png": "[encoded data removed]"
          },
          "metadata": {
            "needs_background": "light"
          }
        }
      ]
    },
    {
      "cell_type": "code",
      "source": [
        "print(np.max(h)) # altura máxima atingida pela bola"
      ],
      "metadata": {
        "colab": {
          "base_uri": "https://localhost:8080/"
        },
        "id": "40npEnRhfdDt",
        "outputId": "ceca561c-4103-451d-ec83-861f2692d505"
      },
      "execution_count": 24,
      "outputs": [
        {
          "output_type": "stream",
          "name": "stdout",
          "text": [
            "4.0\n"
          ]
        }
      ]
    }
  ]
}